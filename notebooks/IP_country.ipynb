{
 "cells": [
  {
   "cell_type": "code",
   "execution_count": null,
   "id": "fb28be97",
   "metadata": {},
   "outputs": [],
   "source": [
    "import socket\n",
    "import struct\n",
    "\n",
    "# Convert IP to integer\n",
    "def ip_to_int(ip):\n",
    "    return struct.unpack(\"!I\", socket.inet_aton(ip))[0]\n",
    "\n",
    "# Convert IP addresses to integers in fraud_data\n",
    "fraud_data[\"ip_int\"] = fraud_data[\"ip_address\"].apply(ip_to_int)\n",
    "\n",
    "# Load and process ip-to-country data\n",
    "ip_country = pd.read_csv(\"../data/IpAddress_to_Country.csv\")\n",
    "ip_country[\"lower_bound_ip_int\"] = ip_country[\"lower_bound_ip_address\"].apply(ip_to_int)\n",
    "ip_country[\"upper_bound_ip_int\"] = ip_country[\"upper_bound_ip_address\"].apply(ip_to_int)\n",
    "\n",
    "# Sort both dataframes for merge_asof\n",
    "fraud_data_sorted = fraud_data.sort_values(\"ip_int\")\n",
    "ip_country_sorted = ip_country.sort_values(\"lower_bound_ip_int\")\n",
    "\n",
    "# Use merge_asof to assign country\n",
    "merged = pd.merge_asof(\n",
    "    fraud_data_sorted,\n",
    "    ip_country_sorted,\n",
    "    left_on=\"ip_int\",\n",
    "    right_on=\"lower_bound_ip_int\",\n",
    "    direction=\"backward\"\n",
    ")\n",
    "\n",
    "# Filter where ip_int is within bounds\n",
    "merged = merged[merged[\"ip_int\"] <= merged[\"upper_bound_ip_int\"]]\n",
    "\n",
    "# Preview\n",
    "merged[[\"ip_address\", \"ip_int\", \"country\"]].head()\n"
   ]
  }
 ],
 "metadata": {
  "language_info": {
   "name": "python"
  }
 },
 "nbformat": 4,
 "nbformat_minor": 5
}
